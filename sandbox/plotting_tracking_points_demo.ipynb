{
 "cells": [
  {
   "cell_type": "code",
   "execution_count": 2,
   "metadata": {
    "collapsed": false
   },
   "outputs": [],
   "source": [
    "from pandas import DataFrame\n",
    "from bunch import Bunch\n",
    "\n",
    "% matplotlib inline\n",
    "\n",
    "tracks = Bunch()\n",
    "filepath = '/Users/loicjounot/internal-tools/tracks/2016-01-01.csv'\n",
    "tracks.raw = DataFrame().from_csv(filepath)"
   ]
  },
  {
   "cell_type": "code",
   "execution_count": 3,
   "metadata": {
    "collapsed": false
   },
   "outputs": [
    {
     "name": "stdout",
     "output_type": "stream",
     "text": [
      "<class 'pandas.core.frame.DataFrame'>\n",
      "Int64Index: 743518 entries, 0 to 17\n",
      "Data columns (total 22 columns):\n",
      "accuracy             743518 non-null float64\n",
      "altitude             743518 non-null float64\n",
      "battery              743518 non-null float64\n",
      "bearing              251826 non-null float64\n",
      "created_at           743518 non-null object\n",
      "datetime             743518 non-null object\n",
      "deleted_at           0 non-null float64\n",
      "device               251826 non-null object\n",
      "driver               743518 non-null object\n",
      "gsm_signal           251826 non-null float64\n",
      "lat                  743518 non-null float64\n",
      "lng                  743518 non-null float64\n",
      "location             743518 non-null object\n",
      "location_provider    251826 non-null object\n",
      "modified_at          743518 non-null object\n",
      "network_type         250846 non-null object\n",
      "num_satelites        0 non-null float64\n",
      "route                164911 non-null object\n",
      "shift                251298 non-null object\n",
      "speed                743518 non-null float64\n",
      "ts_milisecond        251826 non-null float64\n",
      "uuid                 743518 non-null object\n",
      "dtypes: float64(11), object(11)\n",
      "memory usage: 130.5+ MB\n"
     ]
    }
   ],
   "source": [
    "tracks.raw.info()"
   ]
  },
  {
   "cell_type": "code",
   "execution_count": 4,
   "metadata": {
    "collapsed": false
   },
   "outputs": [
    {
     "data": {
      "text/plain": [
       "'cb2f2ed9-ed06-4bb7-a962-9e65f284029d'"
      ]
     },
     "execution_count": 4,
     "metadata": {},
     "output_type": "execute_result"
    }
   ],
   "source": [
    "tracks.raw.driver.iloc[0]"
   ]
  },
  {
   "cell_type": "code",
   "execution_count": 5,
   "metadata": {
    "collapsed": false
   },
   "outputs": [
    {
     "data": {
      "text/plain": [
       "datetime.datetime(2016, 1, 1, 1, 0, 0, 62000)"
      ]
     },
     "execution_count": 5,
     "metadata": {},
     "output_type": "execute_result"
    }
   ],
   "source": [
    "from datetime import datetime\n",
    "\n",
    "milliseconds = tracks.raw.ts_milisecond.iloc[0]\n",
    "\n",
    "timestamp = datetime.fromtimestamp(milliseconds/1000)\n",
    "timestamp"
   ]
  },
  {
   "cell_type": "code",
   "execution_count": 6,
   "metadata": {
    "collapsed": false
   },
   "outputs": [
    {
     "data": {
      "text/plain": [
       "(1451606400.062, 1451692799.8280001)"
      ]
     },
     "execution_count": 6,
     "metadata": {},
     "output_type": "execute_result"
    }
   ],
   "source": [
    "tracks.raw['seconds'] = tracks.raw['ts_milisecond'] / 1000\n",
    "tracks.raw.seconds.min(), tracks.raw.seconds.max()"
   ]
  },
  {
   "cell_type": "code",
   "execution_count": 7,
   "metadata": {
    "collapsed": true
   },
   "outputs": [],
   "source": [
    "tracks.test = tracks.raw[tracks.raw.driver == 'cb2f2ed9-ed06-4bb7-a962-9e65f284029d']"
   ]
  },
  {
   "cell_type": "code",
   "execution_count": 8,
   "metadata": {
    "collapsed": false
   },
   "outputs": [
    {
     "name": "stdout",
     "output_type": "stream",
     "text": [
      "<class 'pandas.core.frame.DataFrame'>\n",
      "Int64Index: 1037 entries, 0 to 428\n",
      "Data columns (total 23 columns):\n",
      "accuracy             1037 non-null float64\n",
      "altitude             1037 non-null float64\n",
      "battery              1037 non-null float64\n",
      "bearing              1037 non-null float64\n",
      "created_at           1037 non-null object\n",
      "datetime             1037 non-null object\n",
      "deleted_at           0 non-null float64\n",
      "device               1037 non-null object\n",
      "driver               1037 non-null object\n",
      "gsm_signal           1037 non-null float64\n",
      "lat                  1037 non-null float64\n",
      "lng                  1037 non-null float64\n",
      "location             1037 non-null object\n",
      "location_provider    1037 non-null object\n",
      "modified_at          1037 non-null object\n",
      "network_type         1010 non-null object\n",
      "num_satelites        0 non-null float64\n",
      "route                776 non-null object\n",
      "shift                1037 non-null object\n",
      "speed                1037 non-null float64\n",
      "ts_milisecond        1037 non-null float64\n",
      "uuid                 1037 non-null object\n",
      "seconds              1037 non-null float64\n",
      "dtypes: float64(12), object(11)\n",
      "memory usage: 194.4+ KB\n"
     ]
    }
   ],
   "source": [
    "tracks.test.info()"
   ]
  },
  {
   "cell_type": "code",
   "execution_count": 9,
   "metadata": {
    "collapsed": false
   },
   "outputs": [
    {
     "data": {
      "text/plain": [
       "0     2016-01-01 01:00:00.062\n",
       "27    2016-01-01 01:01:09.341\n",
       "390   2016-01-01 01:01:54.398\n",
       "318   2016-01-01 01:02:44.922\n",
       "227   2016-01-01 01:03:31.917\n",
       "Name: seconds, dtype: datetime64[ns]"
      ]
     },
     "execution_count": 9,
     "metadata": {},
     "output_type": "execute_result"
    }
   ],
   "source": [
    "from pandas import DatetimeIndex\n",
    "\n",
    "timestamps = tracks.test.seconds.map(lambda x: datetime.fromtimestamp(x))\n",
    "timestamps[:5]"
   ]
  },
  {
   "cell_type": "code",
   "execution_count": 10,
   "metadata": {
    "collapsed": false
   },
   "outputs": [
    {
     "data": {
      "text/plain": [
       "DatetimeIndex(['2016-01-01 00:00:00.062000', '2016-01-01 00:01:09.341000',\n",
       "               '2016-01-01 00:01:54.398000', '2016-01-01 00:02:44.922000',\n",
       "               '2016-01-01 00:03:31.917000', '2016-01-01 00:04:30.453000',\n",
       "               '2016-01-01 00:05:15.887000', '2016-01-01 00:06:18.583000',\n",
       "               '2016-01-01 00:07:09.305000', '2016-01-01 00:07:55.635000',\n",
       "               ...\n",
       "               '2016-01-01 23:51:07.878000', '2016-01-01 23:52:14.979000',\n",
       "               '2016-01-01 23:53:05.954000', '2016-01-01 23:53:51.106000',\n",
       "               '2016-01-01 23:55:19.883000', '2016-01-01 23:56:06.126000',\n",
       "               '2016-01-01 23:56:51.124000', '2016-01-01 23:57:36.394000',\n",
       "               '2016-01-01 23:59:02.696000', '2016-01-01 23:59:49.752000'],\n",
       "              dtype='datetime64[ns]', length=1037, freq=None)"
      ]
     },
     "execution_count": 10,
     "metadata": {},
     "output_type": "execute_result"
    }
   ],
   "source": [
    "ts_index = DatetimeIndex(tracks.test['datetime'])\n",
    "ts_index"
   ]
  },
  {
   "cell_type": "code",
   "execution_count": 11,
   "metadata": {
    "collapsed": false
   },
   "outputs": [
    {
     "name": "stdout",
     "output_type": "stream",
     "text": [
      "<class 'pandas.core.frame.DataFrame'>\n",
      "DatetimeIndex: 1037 entries, 2016-01-01 00:00:00.062000 to 2016-01-01 23:59:49.752000\n",
      "Data columns (total 23 columns):\n",
      "accuracy             1037 non-null float64\n",
      "altitude             1037 non-null float64\n",
      "battery              1037 non-null float64\n",
      "bearing              1037 non-null float64\n",
      "created_at           1037 non-null object\n",
      "datetime             1037 non-null object\n",
      "deleted_at           0 non-null float64\n",
      "device               1037 non-null object\n",
      "driver               1037 non-null object\n",
      "gsm_signal           1037 non-null float64\n",
      "lat                  1037 non-null float64\n",
      "lng                  1037 non-null float64\n",
      "location             1037 non-null object\n",
      "location_provider    1037 non-null object\n",
      "modified_at          1037 non-null object\n",
      "network_type         1010 non-null object\n",
      "num_satelites        0 non-null float64\n",
      "route                776 non-null object\n",
      "shift                1037 non-null object\n",
      "speed                1037 non-null float64\n",
      "ts_milisecond        1037 non-null float64\n",
      "uuid                 1037 non-null object\n",
      "seconds              1037 non-null float64\n",
      "dtypes: float64(12), object(11)\n",
      "memory usage: 194.4+ KB\n"
     ]
    }
   ],
   "source": [
    "tracks.test.set_index(ts_index, inplace=True)\n",
    "tracks.test.info()"
   ]
  },
  {
   "cell_type": "code",
   "execution_count": 12,
   "metadata": {
    "collapsed": false
   },
   "outputs": [
    {
     "data": {
      "text/html": [
       "\n",
       "            <div style=\"width:100%;\">\n",
       "            <div style=\"position:relative;width:100%;height:0;padding-bottom:60%;\">\n",
       "            <iframe src=\"data:text/html;base64,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\" style=\"position:absolute;width:100%;height:100%;left:0;top:0;\">\n",
       "            </iframe>\n",
       "            </div></div>"
      ],
      "text/plain": [
       "<folium.folium.Map at 0x12714bbe0>"
      ]
     },
     "execution_count": 12,
     "metadata": {},
     "output_type": "execute_result"
    }
   ],
   "source": [
    "from folium import Map, PolyLine\n",
    "# Coordinates are 15 points on the great circle from Boston to \n",
    "# San Francisco.\n",
    "# Reference: http://williams.best.vwh.net/avform.htm#Intermediate\n",
    "coordinates = [\n",
    "    [  42.3581    ,  -71.0636    ],\n",
    "    [  42.82995815,  -74.78991444],\n",
    "    [  43.17929819,  -78.56603306],\n",
    "    [  43.40320216,  -82.37774519],\n",
    "    [  43.49975489,  -86.20965845],\n",
    "    [  43.46811941,  -90.04569087],\n",
    "    [  43.30857071,  -93.86961818],\n",
    "    [  43.02248456,  -97.66563267],\n",
    "    [  42.61228259, -101.41886832],\n",
    "    [  42.08133868, -105.11585198],\n",
    "    [  41.4338549 , -108.74485069],\n",
    "    [  40.67471747, -112.29609954],\n",
    "    [  39.8093434 , -115.76190821],\n",
    "    [  38.84352776, -119.13665678],\n",
    "    [  37.7833    , -122.4167    ]]\n",
    "\n",
    "\n",
    "# Create the map and add the line\n",
    "usa = Map(location=[41.9, -97.3], zoom_start=4)\n",
    "line = PolyLine(coordinates, color='#FF0000', weight=5)\n",
    "usa.add_children(line)\n",
    "\n",
    "usa"
   ]
  },
  {
   "cell_type": "code",
   "execution_count": 13,
   "metadata": {
    "collapsed": false
   },
   "outputs": [
    {
     "data": {
      "text/plain": [
       "[52.959232783027971, -1.1656353319189969]"
      ]
     },
     "execution_count": 13,
     "metadata": {},
     "output_type": "execute_result"
    }
   ],
   "source": [
    "from pandas import Series\n",
    "\n",
    "lat = tracks.test['lat'].values\n",
    "lon = tracks.test['lng'].values\n",
    "latlon = zip(lat, lon)\n",
    "\n",
    "map_center = [tracks.test['lat'].mean(), tracks.test['lng'].mean()]\n",
    "map_center"
   ]
  },
  {
   "cell_type": "code",
   "execution_count": 14,
   "metadata": {
    "collapsed": false
   },
   "outputs": [
    {
     "data": {
      "text/html": [
       "\n",
       "            <div style=\"width:100%;\">\n",
       "            <div style=\"position:relative;width:100%;height:0;padding-bottom:60%;\">\n",
       "            <iframe src=\"data:text/html;base64,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\" style=\"position:absolute;width:100%;height:100%;left:0;top:0;\">\n",
       "            </iframe>\n",
       "            </div></div>"
      ],
      "text/plain": [
       "<folium.folium.Map at 0x10bd42940>"
      ]
     },
     "execution_count": 14,
     "metadata": {},
     "output_type": "execute_result"
    }
   ],
   "source": [
    "test_map = Map(map_center, zoom_start=12)\n",
    "test_map"
   ]
  },
  {
   "cell_type": "code",
   "execution_count": 15,
   "metadata": {
    "collapsed": false
   },
   "outputs": [
    {
     "data": {
      "text/html": [
       "\n",
       "            <div style=\"width:100%;\">\n",
       "            <div style=\"position:relative;width:100%;height:0;padding-bottom:60%;\">\n",
       "            <iframe src=\"data:text/html;base64,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\" style=\"position:absolute;width:100%;height:100%;left:0;top:0;\">\n",
       "            </iframe>\n",
       "            </div></div>"
      ],
      "text/plain": [
       "<folium.folium.Map at 0x10bd42940>"
      ]
     },
     "execution_count": 15,
     "metadata": {},
     "output_type": "execute_result"
    }
   ],
   "source": [
    "test_line = PolyLine(latlon, color='#FF0000', weight=5)\n",
    "test_map.add_children(test_line)\n",
    "test_map"
   ]
  },
  {
   "cell_type": "code",
   "execution_count": 16,
   "metadata": {
    "collapsed": false
   },
   "outputs": [
    {
     "data": {
      "text/html": [
       "<div>\n",
       "<table border=\"1\" class=\"dataframe\">\n",
       "  <thead>\n",
       "    <tr style=\"text-align: right;\">\n",
       "      <th></th>\n",
       "      <th>accuracy</th>\n",
       "      <th>altitude</th>\n",
       "      <th>battery</th>\n",
       "      <th>bearing</th>\n",
       "      <th>deleted_at</th>\n",
       "      <th>gsm_signal</th>\n",
       "      <th>lat</th>\n",
       "      <th>lng</th>\n",
       "      <th>num_satelites</th>\n",
       "      <th>speed</th>\n",
       "      <th>ts_milisecond</th>\n",
       "      <th>seconds</th>\n",
       "    </tr>\n",
       "  </thead>\n",
       "  <tbody>\n",
       "    <tr>\n",
       "      <th>count</th>\n",
       "      <td>1037.000000</td>\n",
       "      <td>1037.000000</td>\n",
       "      <td>1037.000000</td>\n",
       "      <td>1037.000000</td>\n",
       "      <td>0</td>\n",
       "      <td>1037.000000</td>\n",
       "      <td>1037.000000</td>\n",
       "      <td>1037.000000</td>\n",
       "      <td>0</td>\n",
       "      <td>1037.000000</td>\n",
       "      <td>1.037000e+03</td>\n",
       "      <td>1.037000e+03</td>\n",
       "    </tr>\n",
       "    <tr>\n",
       "      <th>mean</th>\n",
       "      <td>52.152511</td>\n",
       "      <td>45.639344</td>\n",
       "      <td>74.266152</td>\n",
       "      <td>56.402122</td>\n",
       "      <td>NaN</td>\n",
       "      <td>14.163934</td>\n",
       "      <td>52.959233</td>\n",
       "      <td>-1.165635</td>\n",
       "      <td>NaN</td>\n",
       "      <td>2.261508</td>\n",
       "      <td>1.451656e+12</td>\n",
       "      <td>1.451656e+09</td>\n",
       "    </tr>\n",
       "    <tr>\n",
       "      <th>std</th>\n",
       "      <td>117.558335</td>\n",
       "      <td>53.902163</td>\n",
       "      <td>20.334048</td>\n",
       "      <td>105.572421</td>\n",
       "      <td>NaN</td>\n",
       "      <td>11.915814</td>\n",
       "      <td>0.020262</td>\n",
       "      <td>0.027855</td>\n",
       "      <td>NaN</td>\n",
       "      <td>4.238967</td>\n",
       "      <td>2.915624e+07</td>\n",
       "      <td>2.915624e+04</td>\n",
       "    </tr>\n",
       "    <tr>\n",
       "      <th>min</th>\n",
       "      <td>3.000000</td>\n",
       "      <td>-159.000000</td>\n",
       "      <td>30.000002</td>\n",
       "      <td>0.000000</td>\n",
       "      <td>NaN</td>\n",
       "      <td>0.000000</td>\n",
       "      <td>52.876951</td>\n",
       "      <td>-1.241690</td>\n",
       "      <td>NaN</td>\n",
       "      <td>0.000000</td>\n",
       "      <td>1.451606e+12</td>\n",
       "      <td>1.451606e+09</td>\n",
       "    </tr>\n",
       "    <tr>\n",
       "      <th>25%</th>\n",
       "      <td>14.000000</td>\n",
       "      <td>0.000000</td>\n",
       "      <td>58.999996</td>\n",
       "      <td>0.000000</td>\n",
       "      <td>NaN</td>\n",
       "      <td>9.000000</td>\n",
       "      <td>52.954058</td>\n",
       "      <td>-1.180019</td>\n",
       "      <td>NaN</td>\n",
       "      <td>0.000000</td>\n",
       "      <td>1.451621e+12</td>\n",
       "      <td>1.451621e+09</td>\n",
       "    </tr>\n",
       "    <tr>\n",
       "      <th>50%</th>\n",
       "      <td>30.000000</td>\n",
       "      <td>0.000000</td>\n",
       "      <td>78.000000</td>\n",
       "      <td>0.000000</td>\n",
       "      <td>NaN</td>\n",
       "      <td>13.000000</td>\n",
       "      <td>52.959694</td>\n",
       "      <td>-1.169988</td>\n",
       "      <td>NaN</td>\n",
       "      <td>0.000000</td>\n",
       "      <td>1.451666e+12</td>\n",
       "      <td>1.451666e+09</td>\n",
       "    </tr>\n",
       "    <tr>\n",
       "      <th>75%</th>\n",
       "      <td>45.000000</td>\n",
       "      <td>93.000000</td>\n",
       "      <td>92.000000</td>\n",
       "      <td>53.000000</td>\n",
       "      <td>NaN</td>\n",
       "      <td>18.000000</td>\n",
       "      <td>52.968013</td>\n",
       "      <td>-1.149555</td>\n",
       "      <td>NaN</td>\n",
       "      <td>1.750000</td>\n",
       "      <td>1.451680e+12</td>\n",
       "      <td>1.451680e+09</td>\n",
       "    </tr>\n",
       "    <tr>\n",
       "      <th>max</th>\n",
       "      <td>1399.999000</td>\n",
       "      <td>238.000000</td>\n",
       "      <td>100.000000</td>\n",
       "      <td>359.000000</td>\n",
       "      <td>NaN</td>\n",
       "      <td>99.000000</td>\n",
       "      <td>53.005199</td>\n",
       "      <td>-1.082701</td>\n",
       "      <td>NaN</td>\n",
       "      <td>19.250000</td>\n",
       "      <td>1.451693e+12</td>\n",
       "      <td>1.451693e+09</td>\n",
       "    </tr>\n",
       "  </tbody>\n",
       "</table>\n",
       "</div>"
      ],
      "text/plain": [
       "          accuracy     altitude      battery      bearing  deleted_at  \\\n",
       "count  1037.000000  1037.000000  1037.000000  1037.000000           0   \n",
       "mean     52.152511    45.639344    74.266152    56.402122         NaN   \n",
       "std     117.558335    53.902163    20.334048   105.572421         NaN   \n",
       "min       3.000000  -159.000000    30.000002     0.000000         NaN   \n",
       "25%      14.000000     0.000000    58.999996     0.000000         NaN   \n",
       "50%      30.000000     0.000000    78.000000     0.000000         NaN   \n",
       "75%      45.000000    93.000000    92.000000    53.000000         NaN   \n",
       "max    1399.999000   238.000000   100.000000   359.000000         NaN   \n",
       "\n",
       "        gsm_signal          lat          lng  num_satelites        speed  \\\n",
       "count  1037.000000  1037.000000  1037.000000              0  1037.000000   \n",
       "mean     14.163934    52.959233    -1.165635            NaN     2.261508   \n",
       "std      11.915814     0.020262     0.027855            NaN     4.238967   \n",
       "min       0.000000    52.876951    -1.241690            NaN     0.000000   \n",
       "25%       9.000000    52.954058    -1.180019            NaN     0.000000   \n",
       "50%      13.000000    52.959694    -1.169988            NaN     0.000000   \n",
       "75%      18.000000    52.968013    -1.149555            NaN     1.750000   \n",
       "max      99.000000    53.005199    -1.082701            NaN    19.250000   \n",
       "\n",
       "       ts_milisecond       seconds  \n",
       "count   1.037000e+03  1.037000e+03  \n",
       "mean    1.451656e+12  1.451656e+09  \n",
       "std     2.915624e+07  2.915624e+04  \n",
       "min     1.451606e+12  1.451606e+09  \n",
       "25%     1.451621e+12  1.451621e+09  \n",
       "50%     1.451666e+12  1.451666e+09  \n",
       "75%     1.451680e+12  1.451680e+09  \n",
       "max     1.451693e+12  1.451693e+09  "
      ]
     },
     "execution_count": 16,
     "metadata": {},
     "output_type": "execute_result"
    }
   ],
   "source": [
    "tracks.test.describe()"
   ]
  },
  {
   "cell_type": "code",
   "execution_count": 17,
   "metadata": {
    "collapsed": true
   },
   "outputs": [],
   "source": [
    "from matplotlib import style\n",
    "from matplotlib.pylab import rcParams\n",
    "\n",
    "rcParams['figure.figsize'] = (16.0, 12.0)\n",
    "style.use('ggplot')"
   ]
  },
  {
   "cell_type": "code",
   "execution_count": 18,
   "metadata": {
    "collapsed": false
   },
   "outputs": [
    {
     "data": {
      "text/plain": [
       "<matplotlib.axes._subplots.AxesSubplot at 0x10c304e10>"
      ]
     },
     "execution_count": 18,
     "metadata": {},
     "output_type": "execute_result"
    },
    {
     "data": {
      "image/png": "[encoded data removed]",
      "text/plain": [
       "<matplotlib.figure.Figure at 0x10c014b00>"
      ]
     },
     "metadata": {},
     "output_type": "display_data"
    }
   ],
   "source": [
    "tracks.test.battery.plot(style='.')"
   ]
  },
  {
   "cell_type": "code",
   "execution_count": 19,
   "metadata": {
    "collapsed": false
   },
   "outputs": [
    {
     "data": {
      "text/plain": [
       "<matplotlib.axes._subplots.AxesSubplot at 0x10c3d9e48>"
      ]
     },
     "execution_count": 19,
     "metadata": {},
     "output_type": "execute_result"
    },
    {
     "data": {
      "image/png": "[encoded data removed]",
      "text/plain": [
       "<matplotlib.figure.Figure at 0x10c32f9b0>"
      ]
     },
     "metadata": {},
     "output_type": "display_data"
    }
   ],
   "source": [
    "tracks.test[tracks.test.speed > 0].speed.plot(kind='hist', bins=40)"
   ]
  },
  {
   "cell_type": "code",
   "execution_count": 20,
   "metadata": {
    "collapsed": false
   },
   "outputs": [
    {
     "data": {
      "text/plain": [
       "<matplotlib.axes._subplots.AxesSubplot at 0x10c583828>"
      ]
     },
     "execution_count": 20,
     "metadata": {},
     "output_type": "execute_result"
    },
    {
     "data": {
      "image/png": "[encoded data removed]",
      "text/plain": [
       "<matplotlib.figure.Figure at 0x10c5457f0>"
      ]
     },
     "metadata": {},
     "output_type": "display_data"
    }
   ],
   "source": [
    "tracks.test.bearing[tracks.test.bearing > 0.1].plot(kind='hist', bins=40)"
   ]
  },
  {
   "cell_type": "code",
   "execution_count": 21,
   "metadata": {
    "collapsed": false
   },
   "outputs": [
    {
     "data": {
      "text/plain": [
       "<matplotlib.axes._subplots.AxesSubplot at 0x10ecc4fd0>"
      ]
     },
     "execution_count": 21,
     "metadata": {},
     "output_type": "execute_result"
    },
    {
     "data": {
      "image/png": "[encoded data removed]",
      "text/plain": [
       "<matplotlib.figure.Figure at 0x10ecd7a58>"
      ]
     },
     "metadata": {},
     "output_type": "display_data"
    }
   ],
   "source": [
    "tracks.test.gsm_signal.plot(kind='hist', bins=40)"
   ]
  },
  {
   "cell_type": "code",
   "execution_count": 22,
   "metadata": {
    "collapsed": false
   },
   "outputs": [
    {
     "name": "stdout",
     "output_type": "stream",
     "text": [
      "['',\n",
      " '/Users/loicjounot/anaconda/envs/internal-tools/lib/python35.zip',\n",
      " '/Users/loicjounot/anaconda/envs/internal-tools/lib/python3.5',\n",
      " '/Users/loicjounot/anaconda/envs/internal-tools/lib/python3.5/plat-darwin',\n",
      " '/Users/loicjounot/anaconda/envs/internal-tools/lib/python3.5/lib-dynload',\n",
      " '/Users/loicjounot/anaconda/envs/internal-tools/lib/python3.5/site-packages/setuptools-19.6.2-py3.5.egg',\n",
      " '/Users/loicjounot/anaconda/envs/internal-tools/lib/python3.5/site-packages',\n",
      " '/Users/loicjounot/anaconda/envs/internal-tools/lib/python3.5/site-packages/IPython/extensions',\n",
      " '/Users/loicjounot/.ipython',\n",
      " '/Users/loicjounot/Code/internal-tools/']\n"
     ]
    }
   ],
   "source": [
    "from sys import path\n",
    "from pprint import pprint \n",
    "\n",
    "path.append('/Users/loicjounot/Code/internal-tools/')\n",
    "pprint(path)"
   ]
  },
  {
   "cell_type": "code",
   "execution_count": 23,
   "metadata": {
    "collapsed": true
   },
   "outputs": [],
   "source": [
    "from connectors.sql import WarehouseConnector\n",
    "\n",
    "dwh = WarehouseConnector()\n",
    "sql = \"select * from tableau.delivery_dwh where driver_uuid = 'cb2f2ed9-ed06-4bb7-a962-9e65f284029d'\"\n",
    "deliveries = dwh.execute(sql)"
   ]
  },
  {
   "cell_type": "code",
   "execution_count": 24,
   "metadata": {
    "collapsed": false
   },
   "outputs": [
    {
     "data": {
      "text/html": [
       "<div>\n",
       "<table border=\"1\" class=\"dataframe\">\n",
       "  <thead>\n",
       "    <tr style=\"text-align: right;\">\n",
       "      <th></th>\n",
       "      <th>fleet_backend_name</th>\n",
       "      <th>timezone</th>\n",
       "      <th>order_uuid</th>\n",
       "      <th>delivery_uuid</th>\n",
       "      <th>delivery_short_id</th>\n",
       "      <th>source_name</th>\n",
       "      <th>source_id</th>\n",
       "      <th>route_id</th>\n",
       "      <th>ordering_in_route</th>\n",
       "      <th>source_transaction_id</th>\n",
       "      <th>...</th>\n",
       "      <th>driver_odoo_name</th>\n",
       "      <th>driver_odoo_id</th>\n",
       "      <th>driver_odoo_external_id</th>\n",
       "      <th>driver_backend_last_name</th>\n",
       "      <th>driver_backend_first_name</th>\n",
       "      <th>driver_backend_phone_number</th>\n",
       "      <th>driver_planday_last_name</th>\n",
       "      <th>driver_planday_first_name</th>\n",
       "      <th>driver_planday_username</th>\n",
       "      <th>fleet_city</th>\n",
       "    </tr>\n",
       "  </thead>\n",
       "  <tbody>\n",
       "    <tr>\n",
       "      <th>0</th>\n",
       "      <td>nottingham</td>\n",
       "      <td>Europe/London</td>\n",
       "      <td>5a48d08a-db18-47dc-a81f-756299cc257c</td>\n",
       "      <td>f991e84e-80c0-4d46-84f0-927a11caaaf9</td>\n",
       "      <td></td>\n",
       "      <td>backchannel</td>\n",
       "      <td></td>\n",
       "      <td>b881600f-17c8-411e-ab4a-f51374aa9d40</td>\n",
       "      <td>NaN</td>\n",
       "      <td>5a48d08a-db18-47dc-a81f-756299cc257c</td>\n",
       "      <td>...</td>\n",
       "      <td>None</td>\n",
       "      <td>None</td>\n",
       "      <td>None</td>\n",
       "      <td>None</td>\n",
       "      <td>None</td>\n",
       "      <td>None</td>\n",
       "      <td>None</td>\n",
       "      <td>None</td>\n",
       "      <td>None</td>\n",
       "      <td>Nottingham</td>\n",
       "    </tr>\n",
       "    <tr>\n",
       "      <th>1</th>\n",
       "      <td>nottingham</td>\n",
       "      <td>Europe/London</td>\n",
       "      <td>cf67f8e0-5311-4b0d-aada-c02290813361</td>\n",
       "      <td>6db52321-e869-4d76-975b-f0d1799524d3</td>\n",
       "      <td></td>\n",
       "      <td>backchannel</td>\n",
       "      <td></td>\n",
       "      <td>1c197439-896d-4fed-b6d6-90dcb678f2b0</td>\n",
       "      <td>0</td>\n",
       "      <td>cf67f8e0-5311-4b0d-aada-c02290813361</td>\n",
       "      <td>...</td>\n",
       "      <td>None</td>\n",
       "      <td>None</td>\n",
       "      <td>None</td>\n",
       "      <td>None</td>\n",
       "      <td>None</td>\n",
       "      <td>None</td>\n",
       "      <td>None</td>\n",
       "      <td>None</td>\n",
       "      <td>None</td>\n",
       "      <td>Nottingham</td>\n",
       "    </tr>\n",
       "    <tr>\n",
       "      <th>2</th>\n",
       "      <td>nottingham</td>\n",
       "      <td>Europe/London</td>\n",
       "      <td>ca2c22be-0cc5-49bf-b29d-465fdcefb1df</td>\n",
       "      <td>08687ddb-8a60-42b2-a6c9-6c3d20557bb1</td>\n",
       "      <td></td>\n",
       "      <td>backchannel</td>\n",
       "      <td></td>\n",
       "      <td>50e18fec-875d-4c2a-8150-9f6c03667f3e</td>\n",
       "      <td>0</td>\n",
       "      <td>ca2c22be-0cc5-49bf-b29d-465fdcefb1df</td>\n",
       "      <td>...</td>\n",
       "      <td>None</td>\n",
       "      <td>None</td>\n",
       "      <td>None</td>\n",
       "      <td>None</td>\n",
       "      <td>None</td>\n",
       "      <td>None</td>\n",
       "      <td>None</td>\n",
       "      <td>None</td>\n",
       "      <td>None</td>\n",
       "      <td>Nottingham</td>\n",
       "    </tr>\n",
       "    <tr>\n",
       "      <th>3</th>\n",
       "      <td>nottingham</td>\n",
       "      <td>Europe/London</td>\n",
       "      <td>a2db8653-50b3-4ab7-972f-bf1f21194707</td>\n",
       "      <td>026d61ae-5421-47aa-9f11-f2aaf4eb75af</td>\n",
       "      <td></td>\n",
       "      <td>backchannel</td>\n",
       "      <td></td>\n",
       "      <td>09fa9abf-55e3-4335-b181-cea8dac46fa5</td>\n",
       "      <td>0</td>\n",
       "      <td>a2db8653-50b3-4ab7-972f-bf1f21194707</td>\n",
       "      <td>...</td>\n",
       "      <td>None</td>\n",
       "      <td>None</td>\n",
       "      <td>None</td>\n",
       "      <td>None</td>\n",
       "      <td>None</td>\n",
       "      <td>None</td>\n",
       "      <td>None</td>\n",
       "      <td>None</td>\n",
       "      <td>None</td>\n",
       "      <td>Nottingham</td>\n",
       "    </tr>\n",
       "    <tr>\n",
       "      <th>4</th>\n",
       "      <td>nottingham</td>\n",
       "      <td>Europe/London</td>\n",
       "      <td>648110f0-183e-4438-b0b0-4f376139ebff</td>\n",
       "      <td>f6c84cdc-3e72-42bc-918a-dd17b0294356</td>\n",
       "      <td></td>\n",
       "      <td>yReceipts</td>\n",
       "      <td>ahBzfnlyZWNlaXB0cy1wcm9kchQLEgdSZWNlaXB0GICA0O...</td>\n",
       "      <td>d95bad7c-d578-4300-8aa5-afe94fb26331</td>\n",
       "      <td>0</td>\n",
       "      <td>B21</td>\n",
       "      <td>...</td>\n",
       "      <td>None</td>\n",
       "      <td>None</td>\n",
       "      <td>None</td>\n",
       "      <td>None</td>\n",
       "      <td>None</td>\n",
       "      <td>None</td>\n",
       "      <td>None</td>\n",
       "      <td>None</td>\n",
       "      <td>None</td>\n",
       "      <td>Nottingham</td>\n",
       "    </tr>\n",
       "  </tbody>\n",
       "</table>\n",
       "<p>5 rows × 78 columns</p>\n",
       "</div>"
      ],
      "text/plain": [
       "  fleet_backend_name       timezone                            order_uuid  \\\n",
       "0         nottingham  Europe/London  5a48d08a-db18-47dc-a81f-756299cc257c   \n",
       "1         nottingham  Europe/London  cf67f8e0-5311-4b0d-aada-c02290813361   \n",
       "2         nottingham  Europe/London  ca2c22be-0cc5-49bf-b29d-465fdcefb1df   \n",
       "3         nottingham  Europe/London  a2db8653-50b3-4ab7-972f-bf1f21194707   \n",
       "4         nottingham  Europe/London  648110f0-183e-4438-b0b0-4f376139ebff   \n",
       "\n",
       "                          delivery_uuid delivery_short_id  source_name  \\\n",
       "0  f991e84e-80c0-4d46-84f0-927a11caaaf9                    backchannel   \n",
       "1  6db52321-e869-4d76-975b-f0d1799524d3                    backchannel   \n",
       "2  08687ddb-8a60-42b2-a6c9-6c3d20557bb1                    backchannel   \n",
       "3  026d61ae-5421-47aa-9f11-f2aaf4eb75af                    backchannel   \n",
       "4  f6c84cdc-3e72-42bc-918a-dd17b0294356                      yReceipts   \n",
       "\n",
       "                                           source_id  \\\n",
       "0                                                      \n",
       "1                                                      \n",
       "2                                                      \n",
       "3                                                      \n",
       "4  ahBzfnlyZWNlaXB0cy1wcm9kchQLEgdSZWNlaXB0GICA0O...   \n",
       "\n",
       "                               route_id  ordering_in_route  \\\n",
       "0  b881600f-17c8-411e-ab4a-f51374aa9d40                NaN   \n",
       "1  1c197439-896d-4fed-b6d6-90dcb678f2b0                  0   \n",
       "2  50e18fec-875d-4c2a-8150-9f6c03667f3e                  0   \n",
       "3  09fa9abf-55e3-4335-b181-cea8dac46fa5                  0   \n",
       "4  d95bad7c-d578-4300-8aa5-afe94fb26331                  0   \n",
       "\n",
       "                  source_transaction_id     ...     driver_odoo_name  \\\n",
       "0  5a48d08a-db18-47dc-a81f-756299cc257c     ...                 None   \n",
       "1  cf67f8e0-5311-4b0d-aada-c02290813361     ...                 None   \n",
       "2  ca2c22be-0cc5-49bf-b29d-465fdcefb1df     ...                 None   \n",
       "3  a2db8653-50b3-4ab7-972f-bf1f21194707     ...                 None   \n",
       "4                                   B21     ...                 None   \n",
       "\n",
       "  driver_odoo_id driver_odoo_external_id driver_backend_last_name  \\\n",
       "0           None                    None                     None   \n",
       "1           None                    None                     None   \n",
       "2           None                    None                     None   \n",
       "3           None                    None                     None   \n",
       "4           None                    None                     None   \n",
       "\n",
       "  driver_backend_first_name driver_backend_phone_number  \\\n",
       "0                      None                        None   \n",
       "1                      None                        None   \n",
       "2                      None                        None   \n",
       "3                      None                        None   \n",
       "4                      None                        None   \n",
       "\n",
       "  driver_planday_last_name driver_planday_first_name driver_planday_username  \\\n",
       "0                     None                      None                    None   \n",
       "1                     None                      None                    None   \n",
       "2                     None                      None                    None   \n",
       "3                     None                      None                    None   \n",
       "4                     None                      None                    None   \n",
       "\n",
       "   fleet_city  \n",
       "0  Nottingham  \n",
       "1  Nottingham  \n",
       "2  Nottingham  \n",
       "3  Nottingham  \n",
       "4  Nottingham  \n",
       "\n",
       "[5 rows x 78 columns]"
      ]
     },
     "execution_count": 24,
     "metadata": {},
     "output_type": "execute_result"
    }
   ],
   "source": [
    "deliveries.head()"
   ]
  },
  {
   "cell_type": "code",
   "execution_count": 25,
   "metadata": {
    "collapsed": false
   },
   "outputs": [
    {
     "data": {
      "text/html": [
       "<div>\n",
       "<table border=\"1\" class=\"dataframe\">\n",
       "  <thead>\n",
       "    <tr style=\"text-align: right;\">\n",
       "      <th></th>\n",
       "      <th>fleet_backend_name</th>\n",
       "      <th>timezone</th>\n",
       "      <th>order_uuid</th>\n",
       "      <th>delivery_uuid</th>\n",
       "      <th>delivery_short_id</th>\n",
       "      <th>source_name</th>\n",
       "      <th>source_id</th>\n",
       "      <th>route_id</th>\n",
       "      <th>ordering_in_route</th>\n",
       "      <th>source_transaction_id</th>\n",
       "      <th>...</th>\n",
       "      <th>driver_odoo_name</th>\n",
       "      <th>driver_odoo_id</th>\n",
       "      <th>driver_odoo_external_id</th>\n",
       "      <th>driver_backend_last_name</th>\n",
       "      <th>driver_backend_first_name</th>\n",
       "      <th>driver_backend_phone_number</th>\n",
       "      <th>driver_planday_last_name</th>\n",
       "      <th>driver_planday_first_name</th>\n",
       "      <th>driver_planday_username</th>\n",
       "      <th>fleet_city</th>\n",
       "    </tr>\n",
       "  </thead>\n",
       "  <tbody>\n",
       "    <tr>\n",
       "      <th>2016-01-01 00:28:26</th>\n",
       "      <td>nottingham</td>\n",
       "      <td>Europe/London</td>\n",
       "      <td>728de9b3-869c-4d79-82ce-16940ff8ec2a</td>\n",
       "      <td>105d3bdd-5dfe-4101-b953-01cbf7b75277</td>\n",
       "      <td></td>\n",
       "      <td>backchannel</td>\n",
       "      <td></td>\n",
       "      <td>55f81e1b-0370-449c-a49f-b338435ec27c</td>\n",
       "      <td>0</td>\n",
       "      <td>728de9b3-869c-4d79-82ce-16940ff8ec2a</td>\n",
       "      <td>...</td>\n",
       "      <td>None</td>\n",
       "      <td>None</td>\n",
       "      <td>None</td>\n",
       "      <td>None</td>\n",
       "      <td>None</td>\n",
       "      <td>None</td>\n",
       "      <td>None</td>\n",
       "      <td>None</td>\n",
       "      <td>None</td>\n",
       "      <td>Nottingham</td>\n",
       "    </tr>\n",
       "    <tr>\n",
       "      <th>2016-01-01 01:12:06</th>\n",
       "      <td>nottingham</td>\n",
       "      <td>Europe/London</td>\n",
       "      <td>7a11ea99-3475-436a-94d3-88c57d7bd689</td>\n",
       "      <td>ee7fecba-89c8-4309-9c07-8f56caa019dd</td>\n",
       "      <td></td>\n",
       "      <td>backchannel</td>\n",
       "      <td></td>\n",
       "      <td>1e6af59c-0bfa-47bc-9cbe-5271857e2b4d</td>\n",
       "      <td>0</td>\n",
       "      <td>7a11ea99-3475-436a-94d3-88c57d7bd689</td>\n",
       "      <td>...</td>\n",
       "      <td>None</td>\n",
       "      <td>None</td>\n",
       "      <td>None</td>\n",
       "      <td>None</td>\n",
       "      <td>None</td>\n",
       "      <td>None</td>\n",
       "      <td>None</td>\n",
       "      <td>None</td>\n",
       "      <td>None</td>\n",
       "      <td>Nottingham</td>\n",
       "    </tr>\n",
       "    <tr>\n",
       "      <th>2016-01-01 02:00:09</th>\n",
       "      <td>nottingham</td>\n",
       "      <td>Europe/London</td>\n",
       "      <td>eb53e318-2bea-4d92-b1ce-7e890bf88600</td>\n",
       "      <td>9cc35fb9-3216-4ab7-8a54-4e5c144c579b</td>\n",
       "      <td></td>\n",
       "      <td>backchannel</td>\n",
       "      <td></td>\n",
       "      <td>81a5953a-45b3-4caa-81dc-f8c185843076</td>\n",
       "      <td>0</td>\n",
       "      <td>eb53e318-2bea-4d92-b1ce-7e890bf88600</td>\n",
       "      <td>...</td>\n",
       "      <td>None</td>\n",
       "      <td>None</td>\n",
       "      <td>None</td>\n",
       "      <td>None</td>\n",
       "      <td>None</td>\n",
       "      <td>None</td>\n",
       "      <td>None</td>\n",
       "      <td>None</td>\n",
       "      <td>None</td>\n",
       "      <td>Nottingham</td>\n",
       "    </tr>\n",
       "    <tr>\n",
       "      <th>2016-01-01 02:26:08</th>\n",
       "      <td>nottingham</td>\n",
       "      <td>Europe/London</td>\n",
       "      <td>60e556e2-96cb-420e-acca-46fcb495b8e7</td>\n",
       "      <td>cb4119b1-8e5e-4166-a8bc-db68720e36e3</td>\n",
       "      <td></td>\n",
       "      <td>backchannel</td>\n",
       "      <td></td>\n",
       "      <td>33dbb7e6-9706-42c5-b7e5-25625fe7d1c5</td>\n",
       "      <td>0</td>\n",
       "      <td>60e556e2-96cb-420e-acca-46fcb495b8e7</td>\n",
       "      <td>...</td>\n",
       "      <td>None</td>\n",
       "      <td>None</td>\n",
       "      <td>None</td>\n",
       "      <td>None</td>\n",
       "      <td>None</td>\n",
       "      <td>None</td>\n",
       "      <td>None</td>\n",
       "      <td>None</td>\n",
       "      <td>None</td>\n",
       "      <td>Nottingham</td>\n",
       "    </tr>\n",
       "    <tr>\n",
       "      <th>2016-01-01 02:50:21</th>\n",
       "      <td>nottingham</td>\n",
       "      <td>Europe/London</td>\n",
       "      <td>0a7e872e-f258-4223-9635-d762cf146c7b</td>\n",
       "      <td>58aad91c-7303-4482-8532-3cc2f7fe62f6</td>\n",
       "      <td></td>\n",
       "      <td>backchannel</td>\n",
       "      <td></td>\n",
       "      <td>33dbb7e6-9706-42c5-b7e5-25625fe7d1c5</td>\n",
       "      <td>1</td>\n",
       "      <td>0a7e872e-f258-4223-9635-d762cf146c7b</td>\n",
       "      <td>...</td>\n",
       "      <td>None</td>\n",
       "      <td>None</td>\n",
       "      <td>None</td>\n",
       "      <td>None</td>\n",
       "      <td>None</td>\n",
       "      <td>None</td>\n",
       "      <td>None</td>\n",
       "      <td>None</td>\n",
       "      <td>None</td>\n",
       "      <td>Nottingham</td>\n",
       "    </tr>\n",
       "  </tbody>\n",
       "</table>\n",
       "<p>5 rows × 78 columns</p>\n",
       "</div>"
      ],
      "text/plain": [
       "                    fleet_backend_name       timezone  \\\n",
       "2016-01-01 00:28:26         nottingham  Europe/London   \n",
       "2016-01-01 01:12:06         nottingham  Europe/London   \n",
       "2016-01-01 02:00:09         nottingham  Europe/London   \n",
       "2016-01-01 02:26:08         nottingham  Europe/London   \n",
       "2016-01-01 02:50:21         nottingham  Europe/London   \n",
       "\n",
       "                                               order_uuid  \\\n",
       "2016-01-01 00:28:26  728de9b3-869c-4d79-82ce-16940ff8ec2a   \n",
       "2016-01-01 01:12:06  7a11ea99-3475-436a-94d3-88c57d7bd689   \n",
       "2016-01-01 02:00:09  eb53e318-2bea-4d92-b1ce-7e890bf88600   \n",
       "2016-01-01 02:26:08  60e556e2-96cb-420e-acca-46fcb495b8e7   \n",
       "2016-01-01 02:50:21  0a7e872e-f258-4223-9635-d762cf146c7b   \n",
       "\n",
       "                                            delivery_uuid delivery_short_id  \\\n",
       "2016-01-01 00:28:26  105d3bdd-5dfe-4101-b953-01cbf7b75277                     \n",
       "2016-01-01 01:12:06  ee7fecba-89c8-4309-9c07-8f56caa019dd                     \n",
       "2016-01-01 02:00:09  9cc35fb9-3216-4ab7-8a54-4e5c144c579b                     \n",
       "2016-01-01 02:26:08  cb4119b1-8e5e-4166-a8bc-db68720e36e3                     \n",
       "2016-01-01 02:50:21  58aad91c-7303-4482-8532-3cc2f7fe62f6                     \n",
       "\n",
       "                     source_name source_id  \\\n",
       "2016-01-01 00:28:26  backchannel             \n",
       "2016-01-01 01:12:06  backchannel             \n",
       "2016-01-01 02:00:09  backchannel             \n",
       "2016-01-01 02:26:08  backchannel             \n",
       "2016-01-01 02:50:21  backchannel             \n",
       "\n",
       "                                                 route_id  ordering_in_route  \\\n",
       "2016-01-01 00:28:26  55f81e1b-0370-449c-a49f-b338435ec27c                  0   \n",
       "2016-01-01 01:12:06  1e6af59c-0bfa-47bc-9cbe-5271857e2b4d                  0   \n",
       "2016-01-01 02:00:09  81a5953a-45b3-4caa-81dc-f8c185843076                  0   \n",
       "2016-01-01 02:26:08  33dbb7e6-9706-42c5-b7e5-25625fe7d1c5                  0   \n",
       "2016-01-01 02:50:21  33dbb7e6-9706-42c5-b7e5-25625fe7d1c5                  1   \n",
       "\n",
       "                                    source_transaction_id     ...      \\\n",
       "2016-01-01 00:28:26  728de9b3-869c-4d79-82ce-16940ff8ec2a     ...       \n",
       "2016-01-01 01:12:06  7a11ea99-3475-436a-94d3-88c57d7bd689     ...       \n",
       "2016-01-01 02:00:09  eb53e318-2bea-4d92-b1ce-7e890bf88600     ...       \n",
       "2016-01-01 02:26:08  60e556e2-96cb-420e-acca-46fcb495b8e7     ...       \n",
       "2016-01-01 02:50:21  0a7e872e-f258-4223-9635-d762cf146c7b     ...       \n",
       "\n",
       "                    driver_odoo_name driver_odoo_id driver_odoo_external_id  \\\n",
       "2016-01-01 00:28:26             None           None                    None   \n",
       "2016-01-01 01:12:06             None           None                    None   \n",
       "2016-01-01 02:00:09             None           None                    None   \n",
       "2016-01-01 02:26:08             None           None                    None   \n",
       "2016-01-01 02:50:21             None           None                    None   \n",
       "\n",
       "                    driver_backend_last_name driver_backend_first_name  \\\n",
       "2016-01-01 00:28:26                     None                      None   \n",
       "2016-01-01 01:12:06                     None                      None   \n",
       "2016-01-01 02:00:09                     None                      None   \n",
       "2016-01-01 02:26:08                     None                      None   \n",
       "2016-01-01 02:50:21                     None                      None   \n",
       "\n",
       "                    driver_backend_phone_number driver_planday_last_name  \\\n",
       "2016-01-01 00:28:26                        None                     None   \n",
       "2016-01-01 01:12:06                        None                     None   \n",
       "2016-01-01 02:00:09                        None                     None   \n",
       "2016-01-01 02:26:08                        None                     None   \n",
       "2016-01-01 02:50:21                        None                     None   \n",
       "\n",
       "                    driver_planday_first_name driver_planday_username  \\\n",
       "2016-01-01 00:28:26                      None                    None   \n",
       "2016-01-01 01:12:06                      None                    None   \n",
       "2016-01-01 02:00:09                      None                    None   \n",
       "2016-01-01 02:26:08                      None                    None   \n",
       "2016-01-01 02:50:21                      None                    None   \n",
       "\n",
       "                     fleet_city  \n",
       "2016-01-01 00:28:26  Nottingham  \n",
       "2016-01-01 01:12:06  Nottingham  \n",
       "2016-01-01 02:00:09  Nottingham  \n",
       "2016-01-01 02:26:08  Nottingham  \n",
       "2016-01-01 02:50:21  Nottingham  \n",
       "\n",
       "[5 rows x 78 columns]"
      ]
     },
     "execution_count": 25,
     "metadata": {},
     "output_type": "execute_result"
    }
   ],
   "source": [
    "datetime_min = datetime(2016, 1, 1, 0, 0, 0)\n",
    "datetime_max = datetime(2016, 1, 1, 23, 59, 59)\n",
    "\n",
    "deliveries.sort_values(by='created_at_timestamp', inplace=True)\n",
    "deliveries.set_index(DatetimeIndex(deliveries.created_at_timestamp), inplace=True)\n",
    "deliveries = deliveries[datetime_min:datetime_max]\n",
    "deliveries.head()"
   ]
  },
  {
   "cell_type": "code",
   "execution_count": 26,
   "metadata": {
    "collapsed": false
   },
   "outputs": [
    {
     "data": {
      "text/plain": [
       "(24, 78)"
      ]
     },
     "execution_count": 26,
     "metadata": {},
     "output_type": "execute_result"
    }
   ],
   "source": [
    "deliveries.shape"
   ]
  },
  {
   "cell_type": "code",
   "execution_count": 27,
   "metadata": {
    "collapsed": false
   },
   "outputs": [
    {
     "data": {
      "text/plain": [
       "Index(['fleet_backend_name', 'timezone', 'order_uuid', 'delivery_uuid',\n",
       "       'delivery_short_id', 'source_name', 'source_id', 'route_id',\n",
       "       'ordering_in_route', 'source_transaction_id', 'restaurant_uuid',\n",
       "       'restaurant_name', 'restaurant_city', 'restaurant_zipcode',\n",
       "       'restaurant_source_id', 'driver_username', 'battery_status',\n",
       "       'customer_phone_number', 'customer_street', 'customer_number',\n",
       "       'customer_zipcode', 'customer_city', 'customer_country',\n",
       "       'customer_raw_address', 'distance_to_customer',\n",
       "       'distance_traveled_to_customer', 'distance_to_restaurant',\n",
       "       'distance_traveled_to_restaurant', 'total', 'payment_type',\n",
       "       'delivery_fee', 'last_delivery_status',\n",
       "       'last_delivery_status_timestamp', 'transaction_timestamp',\n",
       "       'created_at_timestamp', 'assigned_timestamp', 'fc_reaction_timestamp',\n",
       "       'assignment_accuracy', 'accepted_timestamp',\n",
       "       'driver_reaction_timestamp', 'at_restaurant_timestamp',\n",
       "       'start_route_timestamp', 'real_pickup_timestamp',\n",
       "       'requested_pickup_timestamp', 'confirmed_pickup_timestamp',\n",
       "       'requested_delivery_timestamp', 'expected_delivery_timestamp',\n",
       "       'waiting_time', 'pick_up_eta', 'delivery_at_eta', 'cancellation_reason',\n",
       "       'assigned_by', 'cancelled_by', 'reassigned_by', 'unassigned_by',\n",
       "       'gastronomic_day', 'driver_uuid', 'air_distance_to_customer',\n",
       "       'customer_lat', 'customer_lng', 'created_at_hour', 'fleet_uuid',\n",
       "       'fleet_display_name', 'fleet_country_code', 'fleet_country_name',\n",
       "       'restaurant_odoo_name', 'restaurant_odoo_id',\n",
       "       'restaurant_odoo_external_id', 'driver_odoo_name', 'driver_odoo_id',\n",
       "       'driver_odoo_external_id', 'driver_backend_last_name',\n",
       "       'driver_backend_first_name', 'driver_backend_phone_number',\n",
       "       'driver_planday_last_name', 'driver_planday_first_name',\n",
       "       'driver_planday_username', 'fleet_city'],\n",
       "      dtype='object')"
      ]
     },
     "execution_count": 27,
     "metadata": {},
     "output_type": "execute_result"
    }
   ],
   "source": [
    "deliveries.columns"
   ]
  },
  {
   "cell_type": "code",
   "execution_count": 28,
   "metadata": {
    "collapsed": false
   },
   "outputs": [
    {
     "name": "stdout",
     "output_type": "stream",
     "text": [
      "{('276d72ea-a403-4661-aec2-956599ca3715', 'Kabul Bukhara'),\n",
      " ('3265b8db-f1d8-476b-b1e7-a3ffc442c5ef', 'Munchies'),\n",
      " ('4cca60a8-802b-47f4-b400-57ea1f4b64e5', 'Peking house'),\n",
      " ('64e820d4-9d03-486b-b1d5-172c26092816', 'Crunch Munch'),\n",
      " ('80f89651-f011-4b8f-82fa-61cee733a34d', 'Kathmandu'),\n",
      " ('898a6ec4-3019-498c-909f-c6c44759ff28', 'UK Pizza'),\n",
      " ('8b60b703-e56e-4b28-af75-f6781e8b50b5', 'City Kebab House'),\n",
      " ('8f0e5af7-0b86-4a4f-8407-71346ff3f3d2', \"Mario's Fast Food\"),\n",
      " ('915773f0-a9dc-4f83-ae3f-f8f61fb5a289', 'Chunky Chicken'),\n",
      " ('a134eb8e-ecda-4686-9627-f42eedbca1f8', 'Trent bridge Spice'),\n",
      " ('c4c1e008-c3b2-4036-9b80-0055dbdd7630', 'B-Beirut'),\n",
      " ('cd9a9643-da69-496f-b285-792236d760c6', 'Chilli Hut'),\n",
      " ('e8a5dd81-21b4-48c0-bf8d-b2389053ba64', 'Ronnies')}\n"
     ]
    }
   ],
   "source": [
    "pprint(set(zip(deliveries.restaurant_uuid.values, deliveries.restaurant_name.values)))"
   ]
  },
  {
   "cell_type": "code",
   "execution_count": 29,
   "metadata": {
    "collapsed": false
   },
   "outputs": [
    {
     "data": {
      "text/html": [
       "<div>\n",
       "<table border=\"1\" class=\"dataframe\">\n",
       "  <thead>\n",
       "    <tr style=\"text-align: right;\">\n",
       "      <th></th>\n",
       "      <th>restaurant_uuid</th>\n",
       "      <th>restaurant_name</th>\n",
       "      <th>address_uuid</th>\n",
       "      <th>lat</th>\n",
       "      <th>lon</th>\n",
       "    </tr>\n",
       "  </thead>\n",
       "  <tbody>\n",
       "    <tr>\n",
       "      <th>0</th>\n",
       "      <td>http://joergdsbucket.s3.amazonaws.com/</td>\n",
       "      <td>NaN</td>\n",
       "      <td>NaN</td>\n",
       "      <td>NaN</td>\n",
       "      <td>NaN</td>\n",
       "    </tr>\n",
       "  </tbody>\n",
       "</table>\n",
       "</div>"
      ],
      "text/plain": [
       "                          restaurant_uuid  restaurant_name  address_uuid  lat  \\\n",
       "0  http://joergdsbucket.s3.amazonaws.com/              NaN           NaN  NaN   \n",
       "\n",
       "   lon  \n",
       "0  NaN  "
      ]
     },
     "execution_count": 29,
     "metadata": {},
     "output_type": "execute_result"
    }
   ],
   "source": [
    "from pandas import read_clipboard\n",
    "\n",
    "columns = [\n",
    "    'restaurant_uuid', \n",
    "    'restaurant_name', \n",
    "    'address_uuid', \n",
    "    'lat', \n",
    "    'lon'\n",
    "]\n",
    "restaurants = read_clipboard(names=columns)\n",
    "restaurants.head()"
   ]
  },
  {
   "cell_type": "code",
   "execution_count": 30,
   "metadata": {
    "collapsed": false
   },
   "outputs": [
    {
     "data": {
      "text/html": [
       "<div>\n",
       "<table border=\"1\" class=\"dataframe\">\n",
       "  <thead>\n",
       "    <tr style=\"text-align: right;\">\n",
       "      <th></th>\n",
       "      <th>fleet_backend_name</th>\n",
       "      <th>timezone</th>\n",
       "      <th>order_uuid</th>\n",
       "      <th>delivery_uuid</th>\n",
       "      <th>delivery_short_id</th>\n",
       "      <th>source_name</th>\n",
       "      <th>source_id</th>\n",
       "      <th>route_id</th>\n",
       "      <th>ordering_in_route</th>\n",
       "      <th>source_transaction_id</th>\n",
       "      <th>...</th>\n",
       "      <th>driver_backend_phone_number</th>\n",
       "      <th>driver_planday_last_name</th>\n",
       "      <th>driver_planday_first_name</th>\n",
       "      <th>driver_planday_username</th>\n",
       "      <th>fleet_city</th>\n",
       "      <th>restaurant_uuid</th>\n",
       "      <th>restaurant_name</th>\n",
       "      <th>address_uuid</th>\n",
       "      <th>lat</th>\n",
       "      <th>lon</th>\n",
       "    </tr>\n",
       "  </thead>\n",
       "  <tbody>\n",
       "    <tr>\n",
       "      <th>2016-01-01 00:28:26</th>\n",
       "      <td>nottingham</td>\n",
       "      <td>Europe/London</td>\n",
       "      <td>728de9b3-869c-4d79-82ce-16940ff8ec2a</td>\n",
       "      <td>105d3bdd-5dfe-4101-b953-01cbf7b75277</td>\n",
       "      <td></td>\n",
       "      <td>backchannel</td>\n",
       "      <td></td>\n",
       "      <td>55f81e1b-0370-449c-a49f-b338435ec27c</td>\n",
       "      <td>0</td>\n",
       "      <td>728de9b3-869c-4d79-82ce-16940ff8ec2a</td>\n",
       "      <td>...</td>\n",
       "      <td>None</td>\n",
       "      <td>None</td>\n",
       "      <td>None</td>\n",
       "      <td>None</td>\n",
       "      <td>Nottingham</td>\n",
       "      <td>NaN</td>\n",
       "      <td>NaN</td>\n",
       "      <td>NaN</td>\n",
       "      <td>NaN</td>\n",
       "      <td>NaN</td>\n",
       "    </tr>\n",
       "    <tr>\n",
       "      <th>2016-01-01 01:12:06</th>\n",
       "      <td>nottingham</td>\n",
       "      <td>Europe/London</td>\n",
       "      <td>7a11ea99-3475-436a-94d3-88c57d7bd689</td>\n",
       "      <td>ee7fecba-89c8-4309-9c07-8f56caa019dd</td>\n",
       "      <td></td>\n",
       "      <td>backchannel</td>\n",
       "      <td></td>\n",
       "      <td>1e6af59c-0bfa-47bc-9cbe-5271857e2b4d</td>\n",
       "      <td>0</td>\n",
       "      <td>7a11ea99-3475-436a-94d3-88c57d7bd689</td>\n",
       "      <td>...</td>\n",
       "      <td>None</td>\n",
       "      <td>None</td>\n",
       "      <td>None</td>\n",
       "      <td>None</td>\n",
       "      <td>Nottingham</td>\n",
       "      <td>NaN</td>\n",
       "      <td>NaN</td>\n",
       "      <td>NaN</td>\n",
       "      <td>NaN</td>\n",
       "      <td>NaN</td>\n",
       "    </tr>\n",
       "    <tr>\n",
       "      <th>2016-01-01 02:00:09</th>\n",
       "      <td>nottingham</td>\n",
       "      <td>Europe/London</td>\n",
       "      <td>eb53e318-2bea-4d92-b1ce-7e890bf88600</td>\n",
       "      <td>9cc35fb9-3216-4ab7-8a54-4e5c144c579b</td>\n",
       "      <td></td>\n",
       "      <td>backchannel</td>\n",
       "      <td></td>\n",
       "      <td>81a5953a-45b3-4caa-81dc-f8c185843076</td>\n",
       "      <td>0</td>\n",
       "      <td>eb53e318-2bea-4d92-b1ce-7e890bf88600</td>\n",
       "      <td>...</td>\n",
       "      <td>None</td>\n",
       "      <td>None</td>\n",
       "      <td>None</td>\n",
       "      <td>None</td>\n",
       "      <td>Nottingham</td>\n",
       "      <td>NaN</td>\n",
       "      <td>NaN</td>\n",
       "      <td>NaN</td>\n",
       "      <td>NaN</td>\n",
       "      <td>NaN</td>\n",
       "    </tr>\n",
       "    <tr>\n",
       "      <th>2016-01-01 02:26:08</th>\n",
       "      <td>nottingham</td>\n",
       "      <td>Europe/London</td>\n",
       "      <td>60e556e2-96cb-420e-acca-46fcb495b8e7</td>\n",
       "      <td>cb4119b1-8e5e-4166-a8bc-db68720e36e3</td>\n",
       "      <td></td>\n",
       "      <td>backchannel</td>\n",
       "      <td></td>\n",
       "      <td>33dbb7e6-9706-42c5-b7e5-25625fe7d1c5</td>\n",
       "      <td>0</td>\n",
       "      <td>60e556e2-96cb-420e-acca-46fcb495b8e7</td>\n",
       "      <td>...</td>\n",
       "      <td>None</td>\n",
       "      <td>None</td>\n",
       "      <td>None</td>\n",
       "      <td>None</td>\n",
       "      <td>Nottingham</td>\n",
       "      <td>NaN</td>\n",
       "      <td>NaN</td>\n",
       "      <td>NaN</td>\n",
       "      <td>NaN</td>\n",
       "      <td>NaN</td>\n",
       "    </tr>\n",
       "    <tr>\n",
       "      <th>2016-01-01 02:50:21</th>\n",
       "      <td>nottingham</td>\n",
       "      <td>Europe/London</td>\n",
       "      <td>0a7e872e-f258-4223-9635-d762cf146c7b</td>\n",
       "      <td>58aad91c-7303-4482-8532-3cc2f7fe62f6</td>\n",
       "      <td></td>\n",
       "      <td>backchannel</td>\n",
       "      <td></td>\n",
       "      <td>33dbb7e6-9706-42c5-b7e5-25625fe7d1c5</td>\n",
       "      <td>1</td>\n",
       "      <td>0a7e872e-f258-4223-9635-d762cf146c7b</td>\n",
       "      <td>...</td>\n",
       "      <td>None</td>\n",
       "      <td>None</td>\n",
       "      <td>None</td>\n",
       "      <td>None</td>\n",
       "      <td>Nottingham</td>\n",
       "      <td>NaN</td>\n",
       "      <td>NaN</td>\n",
       "      <td>NaN</td>\n",
       "      <td>NaN</td>\n",
       "      <td>NaN</td>\n",
       "    </tr>\n",
       "  </tbody>\n",
       "</table>\n",
       "<p>5 rows × 83 columns</p>\n",
       "</div>"
      ],
      "text/plain": [
       "                    fleet_backend_name       timezone  \\\n",
       "2016-01-01 00:28:26         nottingham  Europe/London   \n",
       "2016-01-01 01:12:06         nottingham  Europe/London   \n",
       "2016-01-01 02:00:09         nottingham  Europe/London   \n",
       "2016-01-01 02:26:08         nottingham  Europe/London   \n",
       "2016-01-01 02:50:21         nottingham  Europe/London   \n",
       "\n",
       "                                               order_uuid  \\\n",
       "2016-01-01 00:28:26  728de9b3-869c-4d79-82ce-16940ff8ec2a   \n",
       "2016-01-01 01:12:06  7a11ea99-3475-436a-94d3-88c57d7bd689   \n",
       "2016-01-01 02:00:09  eb53e318-2bea-4d92-b1ce-7e890bf88600   \n",
       "2016-01-01 02:26:08  60e556e2-96cb-420e-acca-46fcb495b8e7   \n",
       "2016-01-01 02:50:21  0a7e872e-f258-4223-9635-d762cf146c7b   \n",
       "\n",
       "                                            delivery_uuid delivery_short_id  \\\n",
       "2016-01-01 00:28:26  105d3bdd-5dfe-4101-b953-01cbf7b75277                     \n",
       "2016-01-01 01:12:06  ee7fecba-89c8-4309-9c07-8f56caa019dd                     \n",
       "2016-01-01 02:00:09  9cc35fb9-3216-4ab7-8a54-4e5c144c579b                     \n",
       "2016-01-01 02:26:08  cb4119b1-8e5e-4166-a8bc-db68720e36e3                     \n",
       "2016-01-01 02:50:21  58aad91c-7303-4482-8532-3cc2f7fe62f6                     \n",
       "\n",
       "                     source_name source_id  \\\n",
       "2016-01-01 00:28:26  backchannel             \n",
       "2016-01-01 01:12:06  backchannel             \n",
       "2016-01-01 02:00:09  backchannel             \n",
       "2016-01-01 02:26:08  backchannel             \n",
       "2016-01-01 02:50:21  backchannel             \n",
       "\n",
       "                                                 route_id  ordering_in_route  \\\n",
       "2016-01-01 00:28:26  55f81e1b-0370-449c-a49f-b338435ec27c                  0   \n",
       "2016-01-01 01:12:06  1e6af59c-0bfa-47bc-9cbe-5271857e2b4d                  0   \n",
       "2016-01-01 02:00:09  81a5953a-45b3-4caa-81dc-f8c185843076                  0   \n",
       "2016-01-01 02:26:08  33dbb7e6-9706-42c5-b7e5-25625fe7d1c5                  0   \n",
       "2016-01-01 02:50:21  33dbb7e6-9706-42c5-b7e5-25625fe7d1c5                  1   \n",
       "\n",
       "                                    source_transaction_id ...  \\\n",
       "2016-01-01 00:28:26  728de9b3-869c-4d79-82ce-16940ff8ec2a ...   \n",
       "2016-01-01 01:12:06  7a11ea99-3475-436a-94d3-88c57d7bd689 ...   \n",
       "2016-01-01 02:00:09  eb53e318-2bea-4d92-b1ce-7e890bf88600 ...   \n",
       "2016-01-01 02:26:08  60e556e2-96cb-420e-acca-46fcb495b8e7 ...   \n",
       "2016-01-01 02:50:21  0a7e872e-f258-4223-9635-d762cf146c7b ...   \n",
       "\n",
       "                    driver_backend_phone_number driver_planday_last_name  \\\n",
       "2016-01-01 00:28:26                        None                     None   \n",
       "2016-01-01 01:12:06                        None                     None   \n",
       "2016-01-01 02:00:09                        None                     None   \n",
       "2016-01-01 02:26:08                        None                     None   \n",
       "2016-01-01 02:50:21                        None                     None   \n",
       "\n",
       "                    driver_planday_first_name driver_planday_username  \\\n",
       "2016-01-01 00:28:26                      None                    None   \n",
       "2016-01-01 01:12:06                      None                    None   \n",
       "2016-01-01 02:00:09                      None                    None   \n",
       "2016-01-01 02:26:08                      None                    None   \n",
       "2016-01-01 02:50:21                      None                    None   \n",
       "\n",
       "                     fleet_city restaurant_uuid restaurant_name address_uuid  \\\n",
       "2016-01-01 00:28:26  Nottingham             NaN             NaN          NaN   \n",
       "2016-01-01 01:12:06  Nottingham             NaN             NaN          NaN   \n",
       "2016-01-01 02:00:09  Nottingham             NaN             NaN          NaN   \n",
       "2016-01-01 02:26:08  Nottingham             NaN             NaN          NaN   \n",
       "2016-01-01 02:50:21  Nottingham             NaN             NaN          NaN   \n",
       "\n",
       "                    lat lon  \n",
       "2016-01-01 00:28:26 NaN NaN  \n",
       "2016-01-01 01:12:06 NaN NaN  \n",
       "2016-01-01 02:00:09 NaN NaN  \n",
       "2016-01-01 02:26:08 NaN NaN  \n",
       "2016-01-01 02:50:21 NaN NaN  \n",
       "\n",
       "[5 rows x 83 columns]"
      ]
     },
     "execution_count": 30,
     "metadata": {},
     "output_type": "execute_result"
    }
   ],
   "source": [
    "restaurants_delivered = deliveries.join(restaurants, on='restaurant_uuid', how='left', lsuffix='r_', sort=False)\n",
    "restaurants_delivered.head()"
   ]
  },
  {
   "cell_type": "code",
   "execution_count": 31,
   "metadata": {
    "collapsed": false
   },
   "outputs": [
    {
     "data": {
      "text/plain": [
       "[(nan, nan),\n",
       " (nan, nan),\n",
       " (nan, nan),\n",
       " (nan, nan),\n",
       " (nan, nan),\n",
       " (nan, nan),\n",
       " (nan, nan),\n",
       " (nan, nan),\n",
       " (nan, nan),\n",
       " (nan, nan),\n",
       " (nan, nan),\n",
       " (nan, nan),\n",
       " (nan, nan),\n",
       " (nan, nan),\n",
       " (nan, nan),\n",
       " (nan, nan),\n",
       " (nan, nan),\n",
       " (nan, nan),\n",
       " (nan, nan),\n",
       " (nan, nan),\n",
       " (nan, nan),\n",
       " (nan, nan),\n",
       " (nan, nan),\n",
       " (nan, nan)]"
      ]
     },
     "execution_count": 31,
     "metadata": {},
     "output_type": "execute_result"
    }
   ],
   "source": [
    "restaurant_coordinates = zip(restaurants_delivered.lat.values, restaurants_delivered.lon.values)\n",
    "list(restaurant_coordinates)"
   ]
  },
  {
   "cell_type": "code",
   "execution_count": 32,
   "metadata": {
    "collapsed": true
   },
   "outputs": [],
   "source": [
    "from connectors.valkfleet import ValkfleetConnector\n",
    "api = ValkfleetConnector()"
   ]
  },
  {
   "cell_type": "code",
   "execution_count": 33,
   "metadata": {
    "collapsed": false
   },
   "outputs": [
    {
     "data": {
      "text/plain": [
       "{'address': {'city': 'Nottingham',\n",
       "  'city_name': 'Nottingham',\n",
       "  'comment': None,\n",
       "  'country': 'United Kingdom',\n",
       "  'created_at': '2015-10-14T16:29:06+00:00',\n",
       "  'deleted_at': None,\n",
       "  'formatted_address': 'Main Street 261, NG68EZ Nottingham, United Kingdom',\n",
       "  'geocoding_log': [],\n",
       "  'lat': 53.002955,\n",
       "  'lng': -1.196228,\n",
       "  'location': {'lat': 53.002955, 'lng': -1.196228},\n",
       "  'location_type': None,\n",
       "  'location_uuid': None,\n",
       "  'modified_at': '2015-10-14T16:29:06+00:00',\n",
       "  'number': '261',\n",
       "  'phone_number': '01158379505',\n",
       "  'raw_address': 'Main Street,261,NG68EZ,Nottingham,United Kingdom',\n",
       "  'street': 'Main Street',\n",
       "  'uuid': '331695bd-2a7f-45fb-8252-f2b34afc13b3',\n",
       "  'zipcode': 'NG68EZ'},\n",
       " 'address_uuid': '331695bd-2a7f-45fb-8252-f2b34afc13b3',\n",
       " 'city': '6c788788-b4e9-4bd7-abfc-cb2bdb8efb2b',\n",
       " 'created_at': '2015-10-14T14:40:47+00:00',\n",
       " 'deleted_at': None,\n",
       " 'dont_process': False,\n",
       " 'fleet': '89a0e793-26b4-46ba-bcde-57d3543fb391',\n",
       " 'ignore': False,\n",
       " 'metadata': {'created_at': '2015-10-14T16:29:06.392300+00:00',\n",
       "  'deleted_at': None,\n",
       "  'id_9C': None,\n",
       "  'modified_at': '2015-10-14T16:29:06.426120+00:00',\n",
       "  'source_data': None,\n",
       "  'source_id': None,\n",
       "  'source_name': None,\n",
       "  'uuid': None,\n",
       "  'yReceipts': {'deduplicate': False,\n",
       "   'default_payment_type': 'SEE',\n",
       "   'override_payment_type': False,\n",
       "   'parser_name': 'generic'},\n",
       "  'yReceipts_id': None},\n",
       " 'modified_at': '2015-11-05T05:51:59+00:00',\n",
       " 'name': 'Ronnies',\n",
       " 'short_name': None,\n",
       " 'source_id': None,\n",
       " 'source_name': None,\n",
       " 'uuid': 'e8a5dd81-21b4-48c0-bf8d-b2389053ba64',\n",
       " 'yReceipts_id': None}"
      ]
     },
     "execution_count": 33,
     "metadata": {},
     "output_type": "execute_result"
    }
   ],
   "source": [
    "restaurant = api.get_record('restaurants', 'e8a5dd81-21b4-48c0-bf8d-b2389053ba64')\n",
    "restaurant"
   ]
  },
  {
   "cell_type": "code",
   "execution_count": 34,
   "metadata": {
    "collapsed": false
   },
   "outputs": [
    {
     "data": {
      "text/plain": [
       "[<folium.map.Marker at 0x10ff664e0>,\n",
       " <folium.map.Marker at 0x11089d588>,\n",
       " <folium.map.Marker at 0x111dd79b0>,\n",
       " <folium.map.Marker at 0x111de2588>,\n",
       " <folium.map.Marker at 0x10ff66278>,\n",
       " <folium.map.Marker at 0x111dd7e48>,\n",
       " <folium.map.Marker at 0x11089d358>,\n",
       " <folium.map.Marker at 0x111df0390>,\n",
       " <folium.map.Marker at 0x111dfd1d0>,\n",
       " <folium.map.Marker at 0x111df7cf8>,\n",
       " <folium.map.Marker at 0x111dd75c0>,\n",
       " <folium.map.Marker at 0x111de2cc0>,\n",
       " <folium.map.Marker at 0x111df79b0>]"
      ]
     },
     "execution_count": 34,
     "metadata": {},
     "output_type": "execute_result"
    }
   ],
   "source": [
    "from folium import Marker\n",
    "\n",
    "markers = []\n",
    "for uuid, name in set(zip(deliveries.restaurant_uuid.values, deliveries.restaurant_name.values)):\n",
    "    restaurant = api.get_record('restaurants', uuid)\n",
    "    marker = Marker([restaurant['address']['lat'], restaurant['address']['lng']], popup=name)\n",
    "    markers.append(marker)\n",
    "    \n",
    "markers"
   ]
  },
  {
   "cell_type": "code",
   "execution_count": 35,
   "metadata": {
    "collapsed": false
   },
   "outputs": [
    {
     "data": {
      "text/html": [
       "\n",
       "            <div style=\"width:100%;\">\n",
       "            <div style=\"position:relative;width:100%;height:0;padding-bottom:60%;\">\n",
       "            <iframe src=\"data:text/html;base64,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\" style=\"position:absolute;width:100%;height:100%;left:0;top:0;\">\n",
       "            </iframe>\n",
       "            </div></div>"
      ],
      "text/plain": [
       "<folium.folium.Map at 0x10bd42940>"
      ]
     },
     "execution_count": 35,
     "metadata": {},
     "output_type": "execute_result"
    }
   ],
   "source": [
    "for m in markers:\n",
    "    test_map.add_children(m)\n",
    "test_map"
   ]
  },
  {
   "cell_type": "code",
   "execution_count": 36,
   "metadata": {
    "collapsed": false
   },
   "outputs": [
    {
     "data": {
      "text/plain": [
       "[(52.8767, -1.0879300000000001),\n",
       " (52.972499999999997, -1.11337),\n",
       " (52.9925, -1.19669),\n",
       " (53.027900000000002, -1.23367),\n",
       " (52.999099999999999, -1.2414000000000001),\n",
       " (52.968600000000002, -1.16916),\n",
       " (52.950499999999998, -1.12415),\n",
       " (52.913600000000002, -1.1800999999999999),\n",
       " (52.960299999999997, -1.15032),\n",
       " (52.940300000000001, -1.1863600000000001),\n",
       " (52.990499999999997, -1.1079699999999999),\n",
       " (52.9754, -1.1351899999999999),\n",
       " (52.9803, -1.15513),\n",
       " (52.951000000000001, -1.1272500000000001),\n",
       " (52.950699999999998, -1.12087),\n",
       " (52.952199999999998, -1.1764399999999999),\n",
       " (52.955800000000004, -1.2164699999999999),\n",
       " (52.974899999999998, -1.2306600000000001),\n",
       " (52.981299999999997, -1.15083),\n",
       " (52.973100000000002, -1.2022900000000001),\n",
       " (52.981000000000002, -1.19129),\n",
       " (52.991700000000002, -1.19642),\n",
       " (52.954500000000003, -1.1711199999999999),\n",
       " (53.003500000000003, -1.2168099999999999)]"
      ]
     },
     "execution_count": 36,
     "metadata": {},
     "output_type": "execute_result"
    }
   ],
   "source": [
    "customers = list(zip(deliveries.customer_lat.values, deliveries.customer_lng.values))\n",
    "customers"
   ]
  },
  {
   "cell_type": "code",
   "execution_count": 37,
   "metadata": {
    "collapsed": false
   },
   "outputs": [
    {
     "data": {
      "text/html": [
       "\n",
       "            <div style=\"width:100%;\">\n",
       "            <div style=\"position:relative;width:100%;height:0;padding-bottom:60%;\">\n",
       "            <iframe src=\"data:text/html;base64,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\" style=\"position:absolute;width:100%;height:100%;left:0;top:0;\">\n",
       "            </iframe>\n",
       "            </div></div>"
      ],
      "text/plain": [
       "<folium.folium.Map at 0x10bd42940>"
      ]
     },
     "execution_count": 37,
     "metadata": {},
     "output_type": "execute_result"
    }
   ],
   "source": [
    "from folium import Icon\n",
    "\n",
    "for c in customers:\n",
    "    test_map.add_children(Marker(c, icon=Icon('green')))\n",
    "test_map"
   ]
  },
  {
   "cell_type": "code",
   "execution_count": null,
   "metadata": {
    "collapsed": true
   },
   "outputs": [],
   "source": []
  }
 ],
 "metadata": {
  "kernelspec": {
   "display_name": "Python 3",
   "language": "python",
   "name": "python3"
  },
  "language_info": {
   "codemirror_mode": {
    "name": "ipython",
    "version": 3
   },
   "file_extension": ".py",
   "mimetype": "text/x-python",
   "name": "python",
   "nbconvert_exporter": "python",
   "pygments_lexer": "ipython3",
   "version": "3.5.1"
  }
 },
 "nbformat": 4,
 "nbformat_minor": 0
}
